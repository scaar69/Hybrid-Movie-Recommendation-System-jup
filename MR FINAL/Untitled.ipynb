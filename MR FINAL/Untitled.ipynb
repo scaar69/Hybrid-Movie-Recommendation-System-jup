{
 "cells": [
  {
   "cell_type": "code",
   "execution_count": 1,
   "id": "5cbb1c2e",
   "metadata": {},
   "outputs": [],
   "source": [
    "import pandas as pd\n",
    "import os\n",
    "from sklearn.feature_extraction.text import TfidfVectorizer\n",
    "from sklearn.metrics.pairwise import cosine_similarity"
   ]
  },
  {
   "cell_type": "code",
   "execution_count": 2,
   "id": "99042903",
   "metadata": {},
   "outputs": [],
   "source": [
    "df = pd.read_csv('tamil_movies.csv')"
   ]
  },
  {
   "cell_type": "code",
   "execution_count": 3,
   "id": "cf3312bf",
   "metadata": {},
   "outputs": [],
   "source": [
    "# Compute TF-IDF vectors for movie overviews\n",
    "tfidf = TfidfVectorizer(stop_words='english')\n",
    "tfidf_matrix = tfidf.fit_transform(df['Review Data'].values.astype('U'))\n"
   ]
  },
  {
   "cell_type": "code",
   "execution_count": 4,
   "id": "9b7005b3",
   "metadata": {},
   "outputs": [],
   "source": [
    "# Compute cosine similarity between all pairs of movies\n",
    "cosine_sim = cosine_similarity(tfidf_matrix, tfidf_matrix)"
   ]
  },
  {
   "cell_type": "code",
   "execution_count": 5,
   "id": "c0ee4ee7",
   "metadata": {},
   "outputs": [],
   "source": [
    "# Define function to recommend movies based on a given movie title\n",
    "def hybrid_recommendations(title, num_recommendations=10):\n",
    "    # Find the index of the movie in the DataFrame\n",
    "    idx = df.index[df['Title'] == title].tolist()[0]\n",
    "\n",
    "    # Get the cosine similarity scores for all movies relative to the given movie\n",
    "    sim_scores = list(enumerate(cosine_sim[idx]))\n",
    "\n",
    "    # Sort the movies by their similarity scores in descending order\n",
    "    sim_scores = sorted(sim_scores, key=lambda x: x[1], reverse=True)\n",
    "\n",
    "    # Get the titles and genres of the top recommended movies\n",
    "    movie_indices = [i[0] for i in sim_scores[1:]]\n",
    "    recommended_movies = df.iloc[movie_indices][['Title', 'Genre']].values.tolist()[:num_recommendations]\n",
    "\n",
    "    # Return the recommended movies\n",
    "    return recommended_movies"
   ]
  },
  {
   "cell_type": "code",
   "execution_count": 6,
   "id": "68822410",
   "metadata": {},
   "outputs": [
    {
     "name": "stdout",
     "output_type": "stream",
     "text": [
      "[['Ko', 'Action, Thriller'], ['Saalaiyoram', nan], ['Vaathi', 'Drama, Action'], ['Kannitheevu', 'Thriller, Mystery'], ['Ji', 'Action, Drama'], ['Mandela', 'Comedy, Drama'], ['Kanni Maadam', nan], ['David', 'Action, Drama'], ['Maiem', 'Thriller'], ['Thirupathisamy Kudumbam', 'Drama, Romance']]\n"
     ]
    }
   ],
   "source": [
    "print(hybrid_recommendations(\"Madras\"))"
   ]
  },
  {
   "cell_type": "code",
   "execution_count": 24,
   "metadata": {},
   "outputs": [
    {
     "name": "stdout",
     "output_type": "stream",
     "text": [
      "Collecting customtkinter\n",
      "  Downloading customtkinter-5.1.2-py3-none-any.whl (295 kB)\n",
      "Collecting darkdetect\n",
      "  Downloading darkdetect-0.8.0-py3-none-any.whl (9.0 kB)\n",
      "Installing collected packages: darkdetect, customtkinter\n",
      "Successfully installed customtkinter-5.1.2 darkdetect-0.8.0\n",
      "Note: you may need to restart the kernel to use updated packages.\n"
     ]
    }
   ],
   "source": [
    "pip install customtkinter\n"
   ]
  },
  {
   "cell_type": "code",
   "execution_count": 34,
   "id": "73693214",
   "metadata": {},
   "outputs": [],
   "source": [
    "import tkinter as tk\n",
    "from tkinter import ttk\n",
    "from ttkthemes import ThemedTk\n",
    "from hybrid_recommendations import *\n",
    "\n",
    "class MovieRecommendation(tk.Frame):\n",
    "    def __init__(self, master=None):\n",
    "        super().__init__(master)\n",
    "        self.master = master\n",
    "        self.master.title('Tamil Movie Recommendation System')\n",
    "        self.master.geometry('500x400')\n",
    "        self.style = ttk.Style()\n",
    "\n",
    "        # Create the movie title label and input field\n",
    "        self.title_label = ttk.Label(self.master, text='Enter a movie title:', font=('Arial', 14))\n",
    "        self.title_label.pack(side=tk.TOP, pady=10)\n",
    "        self.title_input = ttk.Entry(self.master, font=('Arial', 14))\n",
    "        self.title_input.pack(side=tk.TOP)\n",
    "\n",
    "        # Create the button to trigger the recommendation\n",
    "        self.recommend_button = ttk.Button(self.master, text='Get Recommendations', command=self.recommend, style='AccentButton.TButton')\n",
    "        self.recommend_button.pack(side=tk.TOP, pady=20)\n",
    "\n",
    "        # Create the label to display the recommended movies\n",
    "        self.recommendation_label = ttk.Label(self.master, text='', font=('Arial', 12), justify='left', anchor='w')\n",
    "        self.recommendation_label.pack(side=tk.TOP, pady=20)\n",
    "\n",
    "        # Create the footer label\n",
    "        self.footer_label = ttk.Label(self.master, text='Movie Recommendation System ', font=('Arial', 10), anchor='w')\n",
    "        self.footer_label.pack(side=tk.BOTTOM, fill='x', padx=10, pady=10)\n",
    "\n",
    "        # Define the styles for the widgets\n",
    "        self.style.configure('AccentButton.TButton', font=('Arial', 14), foreground='#000000', background='#0052CC')\n",
    "        self.style.configure('Accent.TLabel', foreground='#0052CC')\n",
    "\n",
    "    def recommend(self):\n",
    "        # Get the movie title from the input field\n",
    "        title = self.title_input.get()\n",
    "\n",
    "        # Call the recommendation function from the recommendation program\n",
    "        recommendations = hybrid_recommendations(title)\n",
    "\n",
    "        # Display the recommended movies in the label\n",
    "        text = 'Recommended Movies:\\n\\n'\n",
    "        for movie in recommendations:\n",
    "            text += f'{movie[0]} - {movie[1]}\\n'\n",
    "        self.recommendation_label.config(text=text, style='Accent.TLabel')\n",
    "\n",
    "if __name__ == '__main__':\n",
    "    root = ThemedTk(theme='sunvally')\n",
    "    app = MovieRecommendation(root)\n",
    "    app.pack(expand=True, fill='both')\n",
    "    root.mainloop()"
   ]
  },
  {
   "cell_type": "code",
   "execution_count": null,
   "id": "713c70af",
   "metadata": {},
   "outputs": [],
   "source": []
  },
  {
   "cell_type": "markdown",
   "id": "cb284145",
   "metadata": {},
   "source": []
  }
 ],
 "metadata": {
  "kernelspec": {
   "display_name": "Python 3 (ipykernel)",
   "language": "python",
   "name": "python3"
  },
  "language_info": {
   "codemirror_mode": {
    "name": "ipython",
    "version": 3
   },
   "file_extension": ".py",
   "mimetype": "text/x-python",
   "name": "python",
   "nbconvert_exporter": "python",
   "pygments_lexer": "ipython3",
   "version": "3.9.12"
  }
 },
 "nbformat": 4,
 "nbformat_minor": 5
}
